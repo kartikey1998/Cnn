{
 "cells": [
  {
   "cell_type": "markdown",
   "metadata": {
    "colab_type": "text",
    "id": "3DR-eO17geWu"
   },
   "source": [
    "# Convolutional Neural Network"
   ]
  },
  {
   "cell_type": "markdown",
   "metadata": {
    "colab_type": "text",
    "id": "EMefrVPCg-60"
   },
   "source": [
    "### Importing the libraries"
   ]
  },
  {
   "cell_type": "code",
   "execution_count": 24,
   "metadata": {
    "colab": {},
    "colab_type": "code",
    "id": "sCV30xyVhFbE"
   },
   "outputs": [],
   "source": [
    "import tensorflow as tf\n",
    "from tensorflow.keras.preprocessing.image import ImageDataGenerator"
   ]
  },
  {
   "cell_type": "code",
   "execution_count": 25,
   "metadata": {
    "colab": {},
    "colab_type": "code",
    "id": "FIleuCAjoFD8"
   },
   "outputs": [
    {
     "data": {
      "text/plain": [
       "'2.4.1'"
      ]
     },
     "execution_count": 25,
     "metadata": {},
     "output_type": "execute_result"
    }
   ],
   "source": [
    "tf.__version__"
   ]
  },
  {
   "cell_type": "code",
   "execution_count": 26,
   "metadata": {},
   "outputs": [
    {
     "data": {
      "text/plain": [
       "[PhysicalDevice(name='/physical_device:GPU:0', device_type='GPU')]"
      ]
     },
     "execution_count": 26,
     "metadata": {},
     "output_type": "execute_result"
    }
   ],
   "source": [
    "tf.config.list_physical_devices('GPU')"
   ]
  },
  {
   "cell_type": "raw",
   "metadata": {},
   "source": [
    "import tensorflow as tf\n",
    "physical_devices = tf.config.list_physical_devices('GPU')\n",
    "tf.config.experimental.set_memory_growth(physical_devices[0], enable=True)"
   ]
  },
  {
   "cell_type": "markdown",
   "metadata": {
    "colab_type": "text",
    "id": "MvE-heJNo3GG"
   },
   "source": [
    "### Preprocessing the Training set"
   ]
  },
  {
   "cell_type": "code",
   "execution_count": 27,
   "metadata": {
    "colab": {},
    "colab_type": "code",
    "id": "0koUcJMJpEBD"
   },
   "outputs": [
    {
     "name": "stdout",
     "output_type": "stream",
     "text": [
      "Found 8000 images belonging to 2 classes.\n"
     ]
    }
   ],
   "source": [
    "train_datagen = ImageDataGenerator(rescale = 1./255,\n",
    "                                   shear_range = 0.2,\n",
    "                                   zoom_range = 0.2,\n",
    "                                   horizontal_flip = True)\n",
    "training_set = train_datagen.flow_from_directory('dataset/training_set',\n",
    "                                                 target_size = (256, 256),\n",
    "                                                 batch_size = 32,\n",
    "                                                 class_mode = 'binary')"
   ]
  },
  {
   "cell_type": "markdown",
   "metadata": {
    "colab_type": "text",
    "id": "mrCMmGw9pHys"
   },
   "source": [
    "### Preprocessing the Test set"
   ]
  },
  {
   "cell_type": "code",
   "execution_count": 28,
   "metadata": {
    "colab": {},
    "colab_type": "code",
    "id": "SH4WzfOhpKc3"
   },
   "outputs": [
    {
     "name": "stdout",
     "output_type": "stream",
     "text": [
      "Found 2000 images belonging to 2 classes.\n"
     ]
    }
   ],
   "source": [
    "test_datagen = ImageDataGenerator(rescale = 1./255)\n",
    "test_set = test_datagen.flow_from_directory('dataset/test_set',\n",
    "                                            target_size = (256, 256),\n",
    "                                            batch_size = 32,\n",
    "                                            class_mode = 'binary')"
   ]
  },
  {
   "cell_type": "markdown",
   "metadata": {
    "colab_type": "text",
    "id": "ces1gXY2lmoX"
   },
   "source": [
    "### Initialising the CNN"
   ]
  },
  {
   "cell_type": "code",
   "execution_count": 29,
   "metadata": {
    "colab": {},
    "colab_type": "code",
    "id": "SAUt4UMPlhLS"
   },
   "outputs": [],
   "source": [
    "cnn = tf.keras.models.Sequential()"
   ]
  },
  {
   "cell_type": "markdown",
   "metadata": {
    "colab_type": "text",
    "id": "u5YJj_XMl5LF"
   },
   "source": [
    "### Step 1 - Convolution"
   ]
  },
  {
   "cell_type": "code",
   "execution_count": 30,
   "metadata": {
    "colab": {},
    "colab_type": "code",
    "id": "XPzPrMckl-hV"
   },
   "outputs": [],
   "source": [
    "cnn.add(tf.keras.layers.Conv2D(filters=32, kernel_size=3, activation='relu', input_shape=[256, 256, 3]))"
   ]
  },
  {
   "cell_type": "markdown",
   "metadata": {
    "colab_type": "text",
    "id": "tf87FpvxmNOJ"
   },
   "source": [
    "### Step 2 - Pooling"
   ]
  },
  {
   "cell_type": "code",
   "execution_count": 31,
   "metadata": {
    "colab": {},
    "colab_type": "code",
    "id": "ncpqPl69mOac"
   },
   "outputs": [],
   "source": [
    "cnn.add(tf.keras.layers.MaxPool2D(pool_size=2, strides=2))"
   ]
  },
  {
   "cell_type": "markdown",
   "metadata": {
    "colab_type": "text",
    "id": "xaTOgD8rm4mU"
   },
   "source": [
    "### Adding a second convolutional layer"
   ]
  },
  {
   "cell_type": "code",
   "execution_count": 32,
   "metadata": {
    "colab": {},
    "colab_type": "code",
    "id": "i_-FZjn_m8gk"
   },
   "outputs": [],
   "source": [
    "cnn.add(tf.keras.layers.Conv2D(filters=32, kernel_size=3, activation='relu'))\n",
    "cnn.add(tf.keras.layers.MaxPool2D(pool_size=2, strides=2))"
   ]
  },
  {
   "cell_type": "markdown",
   "metadata": {
    "colab_type": "text",
    "id": "tmiEuvTunKfk"
   },
   "source": [
    "### Step 3 - Flattening"
   ]
  },
  {
   "cell_type": "code",
   "execution_count": 33,
   "metadata": {
    "colab": {},
    "colab_type": "code",
    "id": "6AZeOGCvnNZn"
   },
   "outputs": [],
   "source": [
    "cnn.add(tf.keras.layers.Flatten())"
   ]
  },
  {
   "cell_type": "markdown",
   "metadata": {
    "colab_type": "text",
    "id": "dAoSECOm203v"
   },
   "source": [
    "### Step 4 - Full Connection"
   ]
  },
  {
   "cell_type": "code",
   "execution_count": 34,
   "metadata": {
    "colab": {},
    "colab_type": "code",
    "id": "8GtmUlLd26Nq"
   },
   "outputs": [],
   "source": [
    "cnn.add(tf.keras.layers.Dense(units=128, activation='relu'))"
   ]
  },
  {
   "cell_type": "markdown",
   "metadata": {
    "colab_type": "text",
    "id": "yTldFvbX28Na"
   },
   "source": [
    "### Step 5 - Output Layer"
   ]
  },
  {
   "cell_type": "code",
   "execution_count": 35,
   "metadata": {
    "colab": {},
    "colab_type": "code",
    "id": "1p_Zj1Mc3Ko_"
   },
   "outputs": [],
   "source": [
    "cnn.add(tf.keras.layers.Dense(units=1, activation='sigmoid'))"
   ]
  },
  {
   "cell_type": "markdown",
   "metadata": {
    "colab_type": "text",
    "id": "vfrFQACEnc6i"
   },
   "source": [
    "### Compiling the CNN"
   ]
  },
  {
   "cell_type": "code",
   "execution_count": 36,
   "metadata": {
    "colab": {},
    "colab_type": "code",
    "id": "NALksrNQpUlJ"
   },
   "outputs": [],
   "source": [
    "cnn.compile(optimizer = 'adam', loss = 'binary_crossentropy', metrics = ['accuracy'])"
   ]
  },
  {
   "cell_type": "markdown",
   "metadata": {
    "colab_type": "text",
    "id": "ehS-v3MIpX2h"
   },
   "source": [
    "### Training the CNN on the Training set and evaluating it on the Test set"
   ]
  },
  {
   "cell_type": "code",
   "execution_count": 37,
   "metadata": {
    "colab": {},
    "colab_type": "code",
    "id": "XUj1W4PJptta",
    "scrolled": false
   },
   "outputs": [
    {
     "name": "stdout",
     "output_type": "stream",
     "text": [
      "Epoch 1/25\n",
      "250/250 [==============================] - 112s 442ms/step - loss: 1.0847 - accuracy: 0.5677 - val_loss: 0.6063 - val_accuracy: 0.6710\n",
      "Epoch 2/25\n",
      "250/250 [==============================] - 110s 440ms/step - loss: 0.6120 - accuracy: 0.6698 - val_loss: 0.6043 - val_accuracy: 0.6905\n",
      "Epoch 3/25\n",
      "250/250 [==============================] - 110s 440ms/step - loss: 0.5770 - accuracy: 0.7058 - val_loss: 0.5770 - val_accuracy: 0.6935\n",
      "Epoch 4/25\n",
      "250/250 [==============================] - 111s 445ms/step - loss: 0.5352 - accuracy: 0.7372 - val_loss: 0.5382 - val_accuracy: 0.7490\n",
      "Epoch 5/25\n",
      "250/250 [==============================] - 110s 441ms/step - loss: 0.4978 - accuracy: 0.7562 - val_loss: 0.5117 - val_accuracy: 0.7485\n",
      "Epoch 6/25\n",
      "250/250 [==============================] - 110s 440ms/step - loss: 0.4757 - accuracy: 0.7742 - val_loss: 0.4710 - val_accuracy: 0.7780\n",
      "Epoch 7/25\n",
      "250/250 [==============================] - 109s 437ms/step - loss: 0.4387 - accuracy: 0.7928 - val_loss: 0.4818 - val_accuracy: 0.7750\n",
      "Epoch 8/25\n",
      "250/250 [==============================] - 109s 434ms/step - loss: 0.4340 - accuracy: 0.7883 - val_loss: 0.4965 - val_accuracy: 0.7740\n",
      "Epoch 9/25\n",
      "250/250 [==============================] - 108s 433ms/step - loss: 0.4321 - accuracy: 0.7990 - val_loss: 0.4732 - val_accuracy: 0.7855\n",
      "Epoch 10/25\n",
      "250/250 [==============================] - 108s 432ms/step - loss: 0.3985 - accuracy: 0.8221 - val_loss: 0.4628 - val_accuracy: 0.7885\n",
      "Epoch 11/25\n",
      "250/250 [==============================] - 110s 440ms/step - loss: 0.3811 - accuracy: 0.8294 - val_loss: 0.4826 - val_accuracy: 0.7860\n",
      "Epoch 12/25\n",
      "250/250 [==============================] - 111s 443ms/step - loss: 0.3867 - accuracy: 0.8293 - val_loss: 0.4545 - val_accuracy: 0.7870\n",
      "Epoch 13/25\n",
      "250/250 [==============================] - 108s 434ms/step - loss: 0.3449 - accuracy: 0.8424 - val_loss: 0.5288 - val_accuracy: 0.7820\n",
      "Epoch 14/25\n",
      "250/250 [==============================] - 108s 432ms/step - loss: 0.3333 - accuracy: 0.8586 - val_loss: 0.4880 - val_accuracy: 0.7920\n",
      "Epoch 15/25\n",
      "250/250 [==============================] - 108s 431ms/step - loss: 0.3182 - accuracy: 0.8556 - val_loss: 0.5260 - val_accuracy: 0.7900\n",
      "Epoch 16/25\n",
      "250/250 [==============================] - 108s 432ms/step - loss: 0.3181 - accuracy: 0.8633 - val_loss: 0.5281 - val_accuracy: 0.7905\n",
      "Epoch 17/25\n",
      "250/250 [==============================] - 108s 433ms/step - loss: 0.2922 - accuracy: 0.8771 - val_loss: 0.5237 - val_accuracy: 0.7890\n",
      "Epoch 18/25\n",
      "250/250 [==============================] - 108s 432ms/step - loss: 0.2815 - accuracy: 0.8833 - val_loss: 0.5516 - val_accuracy: 0.7730\n",
      "Epoch 19/25\n",
      "250/250 [==============================] - 108s 433ms/step - loss: 0.2842 - accuracy: 0.8794 - val_loss: 0.5342 - val_accuracy: 0.7865\n",
      "Epoch 20/25\n",
      "250/250 [==============================] - 108s 432ms/step - loss: 0.2615 - accuracy: 0.8914 - val_loss: 0.5617 - val_accuracy: 0.7890\n",
      "Epoch 21/25\n",
      "250/250 [==============================] - 108s 431ms/step - loss: 0.2452 - accuracy: 0.8991 - val_loss: 0.5854 - val_accuracy: 0.7955\n",
      "Epoch 22/25\n",
      "250/250 [==============================] - 108s 432ms/step - loss: 0.2436 - accuracy: 0.8992 - val_loss: 0.6004 - val_accuracy: 0.7880\n",
      "Epoch 23/25\n",
      "250/250 [==============================] - 108s 432ms/step - loss: 0.2253 - accuracy: 0.9072 - val_loss: 0.6115 - val_accuracy: 0.7890\n",
      "Epoch 24/25\n",
      "250/250 [==============================] - 108s 432ms/step - loss: 0.2185 - accuracy: 0.9152 - val_loss: 0.6015 - val_accuracy: 0.7790\n",
      "Epoch 25/25\n",
      "250/250 [==============================] - 108s 432ms/step - loss: 0.2024 - accuracy: 0.9194 - val_loss: 0.6949 - val_accuracy: 0.7900\n"
     ]
    },
    {
     "data": {
      "text/plain": [
       "<tensorflow.python.keras.callbacks.History at 0x1c1a7b93a60>"
      ]
     },
     "execution_count": 37,
     "metadata": {},
     "output_type": "execute_result"
    }
   ],
   "source": [
    "cnn.fit(x = training_set, validation_data = test_set, epochs = 25)"
   ]
  },
  {
   "cell_type": "markdown",
   "metadata": {
    "colab_type": "text",
    "id": "U3PZasO0006Z"
   },
   "source": [
    "## Part 4 - Making a single prediction"
   ]
  },
  {
   "cell_type": "code",
   "execution_count": 80,
   "metadata": {
    "colab": {},
    "colab_type": "code",
    "id": "gsSiWEJY1BPB"
   },
   "outputs": [],
   "source": [
    "import numpy as np\n",
    "from tensorflow.keras.preprocessing import image\n",
    "test_image = image.load_img('dataset/single_prediction/cat_or_dog_3.jpg', target_size = (256, 256))\n",
    "test_image = image.img_to_array(test_image)\n",
    "test_image = np.expand_dims(test_image, axis = 0)\n",
    "result = cnn.predict(test_image)\n",
    "training_set.class_indices\n",
    "if result[0][0] == 1:\n",
    "  prediction = 'dog'\n",
    "else:\n",
    "  prediction = 'cat'"
   ]
  },
  {
   "cell_type": "code",
   "execution_count": 81,
   "metadata": {
    "colab": {},
    "colab_type": "code",
    "id": "ED9KB3I54c1i"
   },
   "outputs": [
    {
     "name": "stdout",
     "output_type": "stream",
     "text": [
      "cat\n"
     ]
    }
   ],
   "source": [
    "print(prediction)"
   ]
  }
 ],
 "metadata": {
  "colab": {
   "collapsed_sections": [],
   "name": "convolutional_neural_network.ipynb",
   "provenance": [],
   "toc_visible": true
  },
  "kernelspec": {
   "display_name": "Python 3",
   "language": "python",
   "name": "python3"
  },
  "language_info": {
   "codemirror_mode": {
    "name": "ipython",
    "version": 3
   },
   "file_extension": ".py",
   "mimetype": "text/x-python",
   "name": "python",
   "nbconvert_exporter": "python",
   "pygments_lexer": "ipython3",
   "version": "3.8.5"
  }
 },
 "nbformat": 4,
 "nbformat_minor": 1
}
